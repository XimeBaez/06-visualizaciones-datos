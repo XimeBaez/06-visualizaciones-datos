{
 "cells": [
  {
   "cell_type": "markdown",
   "id": "29b5f484-68a3-490e-801d-c9c3a35c05fc",
   "metadata": {},
   "source": [
    "# Scatter | Dispersiones\n",
    "\n",
    "Aprender a crear visualizaciones de datos efectivas para comunicar informacion de manera clara, identificando patrones"
   ]
  }
 ],
 "metadata": {
  "kernelspec": {
   "display_name": "Python 3 (ipykernel)",
   "language": "python",
   "name": "python3"
  },
  "language_info": {
   "codemirror_mode": {
    "name": "ipython",
    "version": 3
   },
   "file_extension": ".py",
   "mimetype": "text/x-python",
   "name": "python",
   "nbconvert_exporter": "python",
   "pygments_lexer": "ipython3",
   "version": "3.12.4"
  }
 },
 "nbformat": 4,
 "nbformat_minor": 5
}
